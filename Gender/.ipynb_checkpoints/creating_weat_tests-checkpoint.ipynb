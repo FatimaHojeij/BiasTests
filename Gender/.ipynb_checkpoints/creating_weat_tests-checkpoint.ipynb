{
 "cells": [
  {
   "cell_type": "code",
   "execution_count": 4,
   "id": "28ac6aaa",
   "metadata": {},
   "outputs": [],
   "source": [
    "import io"
   ]
  },
  {
   "cell_type": "code",
   "execution_count": 46,
   "id": "cae18587",
   "metadata": {},
   "outputs": [],
   "source": [
    "targ1m = set()\n",
    "targ1f = set()\n",
    "targ2m = set()\n",
    "targ2f = set()\n",
    "attr1m = set()\n",
    "attr1f = set()\n",
    "targ2m = set()\n",
    "targ2f = set()"
   ]
  },
  {
   "cell_type": "code",
   "execution_count": 47,
   "id": "67a8c116",
   "metadata": {},
   "outputs": [],
   "source": [
    "def get_SEAT(seat, weat):\n",
    "    return seat.replace(\"_\", weat)"
   ]
  },
  {
   "cell_type": "code",
   "execution_count": 52,
   "id": "d132152a",
   "metadata": {},
   "outputs": [],
   "source": [
    "seatf = set()\n",
    "seatm = set()\n",
    "seat = io.open(\"./resources/SEAT_ARABIC.txt\", mode=\"r\", encoding=\"utf-8\")\n",
    "with seat as file:\n",
    "    file.readline()\n",
    "    for line in file:\n",
    "        if \"|\" in line:\n",
    "            gender = line.split(\"|\")\n",
    "            seatf.add(gender[0].strip())\n",
    "            if \"x\" in gender[1].strip():\n",
    "                seatm.add(gender[0].strip())\n",
    "            else:\n",
    "                seatm.add(gender[1].strip())\n",
    "seat.close()"
   ]
  },
  {
   "cell_type": "code",
   "execution_count": 59,
   "id": "172ddd76",
   "metadata": {},
   "outputs": [
    {
     "name": "stdout",
     "output_type": "stream",
     "text": [
      "TIm\n",
      "محمد\n",
      "عمر\n",
      "أحمد\n",
      "يوسف\n",
      "علي\n",
      "آدم\n",
      "عبدالله\n",
      "حمزة\n",
      "TIm\n",
      "x\n",
      "x\n",
      "x\n",
      "تحليل\n",
      "حساب\n",
      "x\n",
      "أعداد\n",
      "الجبر\n",
      "TIm\n",
      "x\n",
      "x\n",
      "علم\n",
      "فلك\n",
      "اينشتاين\n",
      "x\n",
      "x\n",
      "x\n"
     ]
    }
   ],
   "source": [
    "weat = io.open(\"./resources/WEAT.txt\", mode=\"r\", encoding=\"utf-8\")\n",
    "with weat as file:\n",
    "    for line in file:\n",
    "        if \"Test Number 2\" not in line:\n",
    "            if \"TIm\" in line:\n",
    "                words = line.split()\n",
    "                for word in words:\n",
    "                    print(word)\n",
    "\n",
    "\n",
    "weat.close()"
   ]
  },
  {
   "cell_type": "code",
   "execution_count": 54,
   "id": "0f49e7a2",
   "metadata": {},
   "outputs": [
    {
     "data": {
      "text/plain": [
       "{'_ تلك', '_ هذه', '_ هنا', '_ هناك', '_ هنالك', 'هنا _', 'هناك _', 'هنالك _'}"
      ]
     },
     "execution_count": 54,
     "metadata": {},
     "output_type": "execute_result"
    }
   ],
   "source": [
    "seatf"
   ]
  },
  {
   "cell_type": "code",
   "execution_count": 55,
   "id": "a7c74f58",
   "metadata": {},
   "outputs": [],
   "source": [
    "weat6 = io.open(\"weat6.txt\", mode=\"w\", encoding=\"utf-8\")\n",
    "weat6.close()"
   ]
  },
  {
   "cell_type": "code",
   "execution_count": null,
   "id": "d5abf12e",
   "metadata": {},
   "outputs": [],
   "source": []
  }
 ],
 "metadata": {
  "kernelspec": {
   "display_name": "Python 3 (ipykernel)",
   "language": "python",
   "name": "python3"
  },
  "language_info": {
   "codemirror_mode": {
    "name": "ipython",
    "version": 3
   },
   "file_extension": ".py",
   "mimetype": "text/x-python",
   "name": "python",
   "nbconvert_exporter": "python",
   "pygments_lexer": "ipython3",
   "version": "3.9.7"
  }
 },
 "nbformat": 4,
 "nbformat_minor": 5
}
