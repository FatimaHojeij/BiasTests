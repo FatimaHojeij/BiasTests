{
 "cells": [
  {
   "cell_type": "code",
   "execution_count": 4,
   "id": "28ac6aaa",
   "metadata": {},
   "outputs": [],
   "source": [
    "import io"
   ]
  },
  {
   "cell_type": "code",
   "execution_count": 47,
   "id": "53ab39cc",
   "metadata": {},
   "outputs": [],
   "source": [
    "def get_SEAT(seat, weat):\n",
    "    return seat.replace(\"_\", weat)"
   ]
  },
  {
   "cell_type": "code",
   "execution_count": 52,
   "id": "d132152a",
   "metadata": {},
   "outputs": [],
   "source": [
    "seatf = set()\n",
    "seatm = set()\n",
    "seat = io.open(\"./resources/SEAT_ARABIC.txt\", mode=\"r\", encoding=\"utf-8\")\n",
    "with seat as file:\n",
    "    file.readline()\n",
    "    for line in file:\n",
    "        if \"|\" in line:\n",
    "            gender = line.split(\"|\")\n",
    "            seatf.add(gender[0].strip())\n",
    "            if \"x\" in gender[1].strip():\n",
    "                seatm.add(gender[0].strip())\n",
    "            else:\n",
    "                seatm.add(gender[1].strip())\n",
    "seat.close()"
   ]
  },
  {
   "cell_type": "code",
   "execution_count": 125,
   "id": "21b2ca77",
   "metadata": {},
   "outputs": [],
   "source": [
    "weat = io.open(\"./resources/WEAT.txt\", mode=\"r\", encoding=\"utf-8\")\n",
    "targ1 = []\n",
    "targ2 = []\n",
    "attr1m = []\n",
    "attr1f = []\n",
    "attr2m = []\n",
    "attr2f = []\n",
    "with weat as file:\n",
    "    for line in file:\n",
    "        if \"Test Number 2\" not in line:\n",
    "            if \"TIm\" in line:\n",
    "                words = line.replace(\"\\n\", \"\").strip().split(\"\\t\")\n",
    "                for i in range(1, len(words)):\n",
    "                    if \"TIm\" not in words[i]:\n",
    "                        targ1.append(words[i])\n",
    "            if \"T2f\" in line:\n",
    "                words = line.replace(\"\\n\", \"\").strip().split(\"\\t\")\n",
    "                for i in range(1, len(words)):\n",
    "                    if \"T2m\" not in words[i]:\n",
    "                        targ2.append(words[i])\n",
    "            if \"A1m\" in line:\n",
    "                words = line.replace(\"\\n\", \"\").strip().split(\"\\t\")\n",
    "                for i in range(1, len(words)):\n",
    "                    if \"A1m\" not in words[i]:\n",
    "                        attr1m.append(words[i])\n",
    "            if \"A1f\" in line:\n",
    "                words = line.replace(\"\\n\", \"\").strip().split(\"\\t\")\n",
    "                for i in range(1, len(words)):\n",
    "                    if \"A1f\" not in words[i]:\n",
    "                        attr1f.append(words[i])\n",
    "            if \"A2m\" in line:\n",
    "                words = line.replace(\"\\n\", \"\").strip().split(\"\\t\")\n",
    "                for i in range(1, len(words)):\n",
    "                    if \"A2m\" not in words[i]:\n",
    "                        attr2m.append(words[i])\n",
    "            if \"A2f\" in line:\n",
    "                words = line.replace(\"\\n\", \"\").strip().split(\"\\t\")\n",
    "                for i in range(1, len(words)):\n",
    "                    if \"A2f\" not in words[i]:\n",
    "                        attr2f.append(words[i])\n",
    "        else:\n",
    "            break\n",
    "\n",
    "\n",
    "weat.close()"
   ]
  },
  {
   "cell_type": "code",
   "execution_count": 126,
   "id": "5cea15a4",
   "metadata": {},
   "outputs": [],
   "source": [
    "for i in range(0, len(attr1m)):\n",
    "    if \"x\" in attr1m[i]:\n",
    "        attr1m[i] = attr1f[i]\n",
    "    if \"x\" in attr1f[i]:\n",
    "        attr1f[i] = attr1m[i]\n",
    "for i in range(0, len(attr2m)):\n",
    "    if \"x\" in attr2m[i]:\n",
    "        attr2m[i] = attr2f[i]\n",
    "    if \"x\" in attr2f[i]:\n",
    "        attr2f[i] = attr2m[i]"
   ]
  },
  {
   "cell_type": "code",
   "execution_count": 127,
   "id": "0ea6f1ea",
   "metadata": {},
   "outputs": [
    {
     "name": "stdout",
     "output_type": "stream",
     "text": [
      "['محمد', 'عمر', 'أحمد', 'يوسف', 'علي', 'آدم', 'عبدالله', 'حمزة']\n",
      "['مريم', 'سارة', 'فاطمة', 'نور', 'ريم', 'لين', 'سلمى', 'جنى']\n",
      "['مدير', 'إدارة', 'محترف', 'مؤسسة', 'راتب', 'مكتب', 'مهنة', 'عمل']\n",
      "['مديرة', 'إدارة', 'محترفة', 'مؤسسة', 'راتب', 'مكتب', 'مهنة', 'عمل']\n",
      "['منزل', 'الأهل', 'الأطفال', 'عائلة', 'أبناء عم', 'زواج', 'حفل زواج', 'أقارب']\n",
      "['منزل', 'الأهل', 'الأطفال', 'عائلة', 'بنات عم', 'زواج', 'حفل زواج', 'أقارب']\n"
     ]
    }
   ],
   "source": [
    "print(targ1)\n",
    "print(targ2)\n",
    "print(attr1m)\n",
    "print(attr1f)\n",
    "print(attr2m)\n",
    "print(attr2f)"
   ]
  },
  {
   "cell_type": "code",
   "execution_count": 129,
   "id": "bd9a40d0",
   "metadata": {},
   "outputs": [
    {
     "name": "stdout",
     "output_type": "stream",
     "text": [
      "هناك محمد\n",
      "هنا محمد\n",
      "محمد هناك\n",
      "محمد هنالك\n",
      "محمد هذا\n",
      "محمد ذلك\n",
      "محمد هنا\n",
      "هنالك محمد\n",
      "هناك عمر\n",
      "هنا عمر\n",
      "عمر هناك\n",
      "عمر هنالك\n",
      "عمر هذا\n",
      "عمر ذلك\n",
      "عمر هنا\n",
      "هنالك عمر\n",
      "هناك أحمد\n",
      "هنا أحمد\n",
      "أحمد هناك\n",
      "أحمد هنالك\n",
      "أحمد هذا\n",
      "أحمد ذلك\n",
      "أحمد هنا\n",
      "هنالك أحمد\n",
      "هناك يوسف\n",
      "هنا يوسف\n",
      "يوسف هناك\n",
      "يوسف هنالك\n",
      "يوسف هذا\n",
      "يوسف ذلك\n",
      "يوسف هنا\n",
      "هنالك يوسف\n",
      "هناك علي\n",
      "هنا علي\n",
      "علي هناك\n",
      "علي هنالك\n",
      "علي هذا\n",
      "علي ذلك\n",
      "علي هنا\n",
      "هنالك علي\n",
      "هناك آدم\n",
      "هنا آدم\n",
      "آدم هناك\n",
      "آدم هنالك\n",
      "آدم هذا\n",
      "آدم ذلك\n",
      "آدم هنا\n",
      "هنالك آدم\n",
      "هناك عبدالله\n",
      "هنا عبدالله\n",
      "عبدالله هناك\n",
      "عبدالله هنالك\n",
      "عبدالله هذا\n",
      "عبدالله ذلك\n",
      "عبدالله هنا\n",
      "هنالك عبدالله\n",
      "هناك حمزة\n",
      "هنا حمزة\n",
      "حمزة هناك\n",
      "حمزة هنالك\n",
      "حمزة هذا\n",
      "حمزة ذلك\n",
      "حمزة هنا\n",
      "هنالك حمزة\n"
     ]
    }
   ],
   "source": [
    "for targ in targ1:\n",
    "    for seat in seatm:\n",
    "        print(get_SEAT(seat, targ))"
   ]
  },
  {
   "cell_type": "code",
   "execution_count": 55,
   "id": "a36df7af",
   "metadata": {},
   "outputs": [],
   "source": [
    "weat6 = io.open(\"weat6.txt\", mode=\"w\", encoding=\"utf-8\")\n",
    "weat6.close()"
   ]
  },
  {
   "cell_type": "code",
   "execution_count": null,
   "id": "8086c247",
   "metadata": {},
   "outputs": [],
   "source": []
  }
 ],
 "metadata": {
  "kernelspec": {
   "display_name": "Python 3 (ipykernel)",
   "language": "python",
   "name": "python3"
  },
  "language_info": {
   "codemirror_mode": {
    "name": "ipython",
    "version": 3
   },
   "file_extension": ".py",
   "mimetype": "text/x-python",
   "name": "python",
   "nbconvert_exporter": "python",
   "pygments_lexer": "ipython3",
   "version": "3.9.7"
  }
 },
 "nbformat": 4,
 "nbformat_minor": 5
}
