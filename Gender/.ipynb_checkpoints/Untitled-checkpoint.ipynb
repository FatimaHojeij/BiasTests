{
 "cells": [
  {
   "cell_type": "code",
   "execution_count": 3,
   "id": "28ac6aaa",
   "metadata": {},
   "outputs": [],
   "source": [
    "targ1m = {}\n",
    "targ1f = {}\n",
    "targ2m = {}\n",
    "targ2f = {}\n",
    "attr1m = {}\n",
    "attr1f = {}\n",
    "targ2m = {}\n",
    "targ2f = {}"
   ]
  },
  {
   "cell_type": "code",
   "execution_count": null,
   "id": "d132152a",
   "metadata": {},
   "outputs": [],
   "source": []
  }
 ],
 "metadata": {
  "kernelspec": {
   "display_name": "Python 3 (ipykernel)",
   "language": "python",
   "name": "python3"
  },
  "language_info": {
   "codemirror_mode": {
    "name": "ipython",
    "version": 3
   },
   "file_extension": ".py",
   "mimetype": "text/x-python",
   "name": "python",
   "nbconvert_exporter": "python",
   "pygments_lexer": "ipython3",
   "version": "3.9.7"
  }
 },
 "nbformat": 4,
 "nbformat_minor": 5
}
