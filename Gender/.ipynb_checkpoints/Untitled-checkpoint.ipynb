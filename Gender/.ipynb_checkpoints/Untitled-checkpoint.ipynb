{
 "cells": [
  {
   "cell_type": "code",
   "execution_count": 4,
   "id": "28ac6aaa",
   "metadata": {},
   "outputs": [],
   "source": [
    "import io"
   ]
  },
  {
   "cell_type": "code",
   "execution_count": 46,
   "id": "c617ce5a",
   "metadata": {},
   "outputs": [],
   "source": [
    "targ1m = set()\n",
    "targ1f = set()\n",
    "targ2m = set()\n",
    "targ2f = set()\n",
    "attr1m = set()\n",
    "attr1f = set()\n",
    "targ2m = set()\n",
    "targ2f = set()\n",
    "seatf = set()\n",
    "seatm = set()"
   ]
  },
  {
   "cell_type": "code",
   "execution_count": 47,
   "id": "b7273fe4",
   "metadata": {},
   "outputs": [],
   "source": [
    "def get_SEAT(seat, weat):\n",
    "    return seat.replace(\"_\", weat)"
   ]
  },
  {
   "cell_type": "code",
   "execution_count": 48,
   "id": "d132152a",
   "metadata": {},
   "outputs": [],
   "source": [
    "seat = io.open(\"./resources/SEAT_ARABIC.txt\", mode=\"r\", encoding=\"utf-8\")\n",
    "\n",
    "with seat as file:\n",
    "    file.readline()\n",
    "    for line in file:\n",
    "        if \"|\" in line:\n",
    "            gender = line.split(\"|\")\n",
    "            seatf.add(gender[0].strip())\n",
    "            if \"x\" in gender[1].strip():\n",
    "                seatm.add(gender[0].strip())\n",
    "            else:\n",
    "                seatm.add(gender[1].strip())\n",
    "seat.close()"
   ]
  },
  {
   "cell_type": "code",
   "execution_count": 51,
   "id": "27373b80",
   "metadata": {},
   "outputs": [
    {
     "data": {
      "text/plain": [
       "{'_ تلك', '_ هذه', '_ هنا', '_ هناك', '_ هنالك', 'هنا _', 'هناك _', 'هنالك _'}"
      ]
     },
     "execution_count": 51,
     "metadata": {},
     "output_type": "execute_result"
    }
   ],
   "source": [
    "weat = io.open(\"./resources/WEAT.txt\", mode=\"r\", encoding=\"utf-8\")\n",
    "\n",
    "\n",
    "\n",
    "weat.close()"
   ]
  },
  {
   "cell_type": "code",
   "execution_count": 50,
   "id": "4299b162",
   "metadata": {},
   "outputs": [
    {
     "data": {
      "text/plain": [
       "{'_ تلك', '_ هذه', '_ هنا', '_ هناك', '_ هنالك', 'هنا _', 'هناك _', 'هنالك _'}"
      ]
     },
     "execution_count": 50,
     "metadata": {},
     "output_type": "execute_result"
    }
   ],
   "source": [
    "seatf"
   ]
  },
  {
   "cell_type": "code",
   "execution_count": 10,
   "id": "32a0d565",
   "metadata": {},
   "outputs": [],
   "source": [
    "weat6 = io.open(\"weat6.txt\", mode=\"w\", encoding=\"utf-8\")\n",
    "weat6.close()"
   ]
  },
  {
   "cell_type": "code",
   "execution_count": null,
   "id": "0987a4f9",
   "metadata": {},
   "outputs": [],
   "source": []
  }
 ],
 "metadata": {
  "kernelspec": {
   "display_name": "Python 3 (ipykernel)",
   "language": "python",
   "name": "python3"
  },
  "language_info": {
   "codemirror_mode": {
    "name": "ipython",
    "version": 3
   },
   "file_extension": ".py",
   "mimetype": "text/x-python",
   "name": "python",
   "nbconvert_exporter": "python",
   "pygments_lexer": "ipython3",
   "version": "3.9.7"
  }
 },
 "nbformat": 4,
 "nbformat_minor": 5
}
