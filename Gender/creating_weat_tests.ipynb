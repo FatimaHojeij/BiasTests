{
 "cells": [
  {
   "cell_type": "code",
   "execution_count": 4,
   "id": "28ac6aaa",
   "metadata": {},
   "outputs": [],
   "source": [
    "import io"
   ]
  },
  {
   "cell_type": "code",
   "execution_count": 47,
   "id": "4e36bca9",
   "metadata": {},
   "outputs": [],
   "source": [
    "def get_SEAT(seat, weat):\n",
    "    return seat.replace(\"_\", weat)"
   ]
  },
  {
   "cell_type": "code",
   "execution_count": 52,
   "id": "d132152a",
   "metadata": {},
   "outputs": [],
   "source": [
    "seatf = set()\n",
    "seatm = set()\n",
    "seat = io.open(\"./resources/SEAT_ARABIC.txt\", mode=\"r\", encoding=\"utf-8\")\n",
    "with seat as file:\n",
    "    file.readline()\n",
    "    for line in file:\n",
    "        if \"|\" in line:\n",
    "            gender = line.split(\"|\")\n",
    "            seatf.add(gender[0].strip())\n",
    "            if \"x\" in gender[1].strip():\n",
    "                seatm.add(gender[0].strip())\n",
    "            else:\n",
    "                seatm.add(gender[1].strip())\n",
    "seat.close()"
   ]
  },
  {
   "cell_type": "code",
   "execution_count": 122,
   "id": "c5f6d389",
   "metadata": {},
   "outputs": [],
   "source": [
    "weat = io.open(\"./resources/WEAT.txt\", mode=\"r\", encoding=\"utf-8\")\n",
    "targ1 = []\n",
    "targ2 = []\n",
    "attr1m = []\n",
    "attr1f = []\n",
    "attr2m = []\n",
    "attr2f = []\n",
    "with weat as file:\n",
    "    for line in file:\n",
    "        if \"Test Number 2\" not in line:\n",
    "            if \"TIm\" in line:\n",
    "                words = line.replace(\"\\n\", \"\").strip().split(\"\\t\")\n",
    "                for i in range(1, len(words)):\n",
    "                    if \"TIm\" not in words[i]:\n",
    "                        targ1.append(words[i])\n",
    "            if \"T2f\" in line:\n",
    "                words = line.replace(\"\\n\", \"\").strip().split(\"\\t\")\n",
    "                for i in range(1, len(words)):\n",
    "                    if \"T2m\" not in words[i]:\n",
    "                        targ2.append(words[i])\n",
    "            if \"A1m\" in line:\n",
    "                words = line.replace(\"\\n\", \"\").strip().split(\"\\t\")\n",
    "                for i in range(1, len(words)):\n",
    "                    if \"A1m\" not in words[i]:\n",
    "                        attr1m.append(words[i])\n",
    "            if \"A1f\" in line:\n",
    "                words = line.replace(\"\\n\", \"\").strip().split(\"\\t\")\n",
    "                for i in range(1, len(words)):\n",
    "                    if \"A1f\" not in words[i]:\n",
    "                        attr1f.append(words[i])\n",
    "            if \"A2m\" in line:\n",
    "                words = line.replace(\"\\n\", \"\").strip().split(\"\\t\")\n",
    "                for i in range(1, len(words)):\n",
    "                    if \"A2m\" not in words[i]:\n",
    "                        attr2m.append(words[i])\n",
    "            if \"A2f\" in line:\n",
    "                words = line.replace(\"\\n\", \"\").strip().split(\"\\t\")\n",
    "                for i in range(1, len(words)):\n",
    "                    if \"A2f\" not in words[i]:\n",
    "                        attr2f.append(words[i])\n",
    "        else:\n",
    "            break\n",
    "\n",
    "\n",
    "weat.close()"
   ]
  },
  {
   "cell_type": "code",
   "execution_count": 123,
   "id": "ab6b2d82",
   "metadata": {},
   "outputs": [],
   "source": [
    "for i in range(0, len(attr1m)):\n",
    "    if \"x\" in attr1m[i]:\n",
    "        attr1m[i] = attr1f[i]\n",
    "for i in range(0, len(attr2m)):\n",
    "    if \"x\" in attr2m[i]:\n",
    "        attr2m[i] = attr2f[i]"
   ]
  },
  {
   "cell_type": "code",
   "execution_count": 124,
   "id": "c48ff22e",
   "metadata": {},
   "outputs": [
    {
     "name": "stdout",
     "output_type": "stream",
     "text": [
      "['محمد', 'عمر', 'أحمد', 'يوسف', 'علي', 'آدم', 'عبدالله', 'حمزة']\n",
      "['مريم', 'سارة', 'فاطمة', 'نور', 'ريم', 'لين', 'سلمى', 'جنى']\n",
      "['مدير', 'إدارة', 'محترف', 'مؤسسة', 'راتب', 'مكتب', 'مهنة', 'عمل']\n",
      "['مديرة', 'إدارة', 'محترفة', 'مؤسسة', 'x', 'x', 'مهنة', 'x']\n",
      "['منزل', 'الأهل', 'الأطفال', 'عائلة', 'أبناء عم', 'زواج', 'حفل زواج', 'أقارب']\n",
      "['x', 'x', 'الأطفال', 'عائلة', 'بنات عم', 'x', 'x', 'أقارب']\n"
     ]
    }
   ],
   "source": [
    "print(targ1)\n",
    "print(targ2)\n",
    "print(attr1m)\n",
    "print(attr1f)\n",
    "print(attr2m)\n",
    "print(attr2f)"
   ]
  },
  {
   "cell_type": "code",
   "execution_count": 105,
   "id": "a8e1adea",
   "metadata": {},
   "outputs": [
    {
     "data": {
      "text/plain": [
       "{'_ تلك', '_ هذه', '_ هنا', '_ هناك', '_ هنالك', 'هنا _', 'هناك _', 'هنالك _'}"
      ]
     },
     "execution_count": 105,
     "metadata": {},
     "output_type": "execute_result"
    }
   ],
   "source": [
    "seatf"
   ]
  },
  {
   "cell_type": "code",
   "execution_count": 55,
   "id": "8355e863",
   "metadata": {},
   "outputs": [],
   "source": [
    "weat6 = io.open(\"weat6.txt\", mode=\"w\", encoding=\"utf-8\")\n",
    "weat6.close()"
   ]
  },
  {
   "cell_type": "code",
   "execution_count": null,
   "id": "bb27d43c",
   "metadata": {},
   "outputs": [],
   "source": []
  }
 ],
 "metadata": {
  "kernelspec": {
   "display_name": "Python 3 (ipykernel)",
   "language": "python",
   "name": "python3"
  },
  "language_info": {
   "codemirror_mode": {
    "name": "ipython",
    "version": 3
   },
   "file_extension": ".py",
   "mimetype": "text/x-python",
   "name": "python",
   "nbconvert_exporter": "python",
   "pygments_lexer": "ipython3",
   "version": "3.9.7"
  }
 },
 "nbformat": 4,
 "nbformat_minor": 5
}
