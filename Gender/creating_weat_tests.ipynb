{
 "cells": [
  {
   "cell_type": "code",
   "execution_count": 2,
   "id": "28ac6aaa",
   "metadata": {},
   "outputs": [],
   "source": [
    "import io\n",
    "import json"
   ]
  },
  {
   "cell_type": "code",
   "execution_count": 3,
   "id": "5a9d7663",
   "metadata": {},
   "outputs": [],
   "source": [
    "def get_SEAT(seat, weat):\n",
    "    return seat.replace(\"_\", weat)"
   ]
  },
  {
   "cell_type": "code",
   "execution_count": 4,
   "id": "d132152a",
   "metadata": {},
   "outputs": [],
   "source": [
    "seatf = set()\n",
    "seatm = set()\n",
    "seat = io.open(\"./resources/SEAT_ARABIC.txt\", mode=\"r\", encoding=\"utf-8\")\n",
    "with seat as file:\n",
    "    file.readline()\n",
    "    for line in file:\n",
    "        if \"|\" in line:\n",
    "            gender = line.split(\"|\")\n",
    "            seatf.add(gender[0].strip())\n",
    "            if \"x\" in gender[1].strip():\n",
    "                seatm.add(gender[0].strip())\n",
    "            else:\n",
    "                seatm.add(gender[1].strip())\n",
    "seat.close()"
   ]
  },
  {
   "cell_type": "code",
   "execution_count": 142,
   "id": "d6e8d87c",
   "metadata": {},
   "outputs": [],
   "source": [
    "weat = io.open(\"./resources/WEAT.txt\", mode=\"r\", encoding=\"utf-8\")\n",
    "targ1 = []\n",
    "targ2 = []\n",
    "attr1m = []\n",
    "attr1f = []\n",
    "attr2m = []\n",
    "attr2f = []\n",
    "with weat as file:\n",
    "    for line in file:\n",
    "        if \"Test Number 2\" not in line:\n",
    "            if \"T1m\" in line:\n",
    "                words = line.replace(\"\\n\", \"\").strip().split(\"\\t\")\n",
    "                for i in range(1, len(words)):\n",
    "                    if \"T1m\" not in words[i]:\n",
    "                        targ1.append(words[i])\n",
    "            if \"T2f\" in line:\n",
    "                words = line.replace(\"\\n\", \"\").strip().split(\"\\t\")\n",
    "                for i in range(1, len(words)):\n",
    "                    if \"T2m\" not in words[i]:\n",
    "                        targ2.append(words[i])\n",
    "            if \"A1m\" in line:\n",
    "                words = line.replace(\"\\n\", \"\").strip().split(\"\\t\")\n",
    "                for i in range(1, len(words)):\n",
    "                    if \"A1m\" not in words[i]:\n",
    "                        attr1m.append(words[i])\n",
    "            if \"A1f\" in line:\n",
    "                words = line.replace(\"\\n\", \"\").strip().split(\"\\t\")\n",
    "                for i in range(1, len(words)):\n",
    "                    if \"A1f\" not in words[i]:\n",
    "                        attr1f.append(words[i])\n",
    "            if \"A2m\" in line:\n",
    "                words = line.replace(\"\\n\", \"\").strip().split(\"\\t\")\n",
    "                for i in range(1, len(words)):\n",
    "                    if \"A2m\" not in words[i]:\n",
    "                        attr2m.append(words[i])\n",
    "            if \"A2f\" in line:\n",
    "                words = line.replace(\"\\n\", \"\").strip().split(\"\\t\")\n",
    "                for i in range(1, len(words)):\n",
    "                    if \"A2f\" not in words[i]:\n",
    "                        attr2f.append(words[i])\n",
    "        else:\n",
    "            break\n",
    "\n",
    "\n",
    "weat.close()"
   ]
  },
  {
   "cell_type": "code",
   "execution_count": 143,
   "id": "bebd67d1",
   "metadata": {},
   "outputs": [
    {
     "name": "stdout",
     "output_type": "stream",
     "text": [
      "['محمد', 'عمر', 'أحمد', 'يوسف', 'علي', 'آدم', 'عبدالله', 'حمزة']\n",
      "['مريم', 'سارة', 'فاطمة', 'نور', 'ريم', 'لين', 'سلمى', 'جنى']\n",
      "['مدير', 'x', 'محترف', 'x', 'راتب', 'مكتب', 'x', 'عمل']\n",
      "['مديرة', 'إدارة', 'محترفة', 'مؤسسة', 'x', 'x', 'مهنة', 'x']\n",
      "['منزل', 'الأهل', 'x', 'x', 'أبناء عم', 'زواج', 'حفل زواج', 'x']\n",
      "['x', 'x', 'الأطفال', 'عائلة', 'بنات عم', 'x', 'x', 'أقارب']\n"
     ]
    }
   ],
   "source": [
    "print(targ1)\n",
    "print(targ2)\n",
    "print(attr1m)\n",
    "print(attr1f)\n",
    "print(attr2m)\n",
    "print(attr2f)"
   ]
  },
  {
   "cell_type": "code",
   "execution_count": 150,
   "id": "61df21c3",
   "metadata": {},
   "outputs": [],
   "source": [
    "T1m = []\n",
    "T2f = []\n",
    "A1m = []\n",
    "A1f = []\n",
    "A2m = []\n",
    "A2f = []\n",
    "\n",
    "for i in range (0, len(targ1)):\n",
    "    for seat in seatm:\n",
    "        if \"x\" not in targ1[i]:\n",
    "            T1m.append(get_SEAT(seat, targ1[i]))\n",
    "\n",
    "for i in range (0, len(targ2)):\n",
    "    for seat in seatf:\n",
    "        if \"x\" not in targ2[i]:\n",
    "            T2f.append(get_SEAT(seat, targ2[i]))\n",
    "\n",
    "for i in range (0, len(attr1m)):\n",
    "    if \"x\" not in attr1m[i]:\n",
    "        for seat in seatm:\n",
    "            A1m.append(get_SEAT(seat, attr1m[i]))\n",
    "    else:\n",
    "        for seat in seatf:\n",
    "            A1m.append(get_SEAT(seat, attr1f[i]))\n",
    "\n",
    "for i in range (0, len(attr1f)):\n",
    "    if \"x\" not in attr1f[i]:\n",
    "         for seat in seatf:\n",
    "            A1f.append(get_SEAT(seat, attr1f[i]))\n",
    "    else:\n",
    "        for seat in seatm:\n",
    "            A1f.append(get_SEAT(seat, attr1m[i]))\n",
    "            \n",
    "for i in range (0, len(attr2m)):\n",
    "    if \"x\" not in attr2m[i]:\n",
    "        for seat in seatm:\n",
    "            A2m.append(get_SEAT(seat, attr2m[i]))\n",
    "    else:\n",
    "        for seat in seatf:\n",
    "            A2m.append(get_SEAT(seat, attr2f[i]))\n",
    "\n",
    "for i in range (0, len(attr2f)):\n",
    "    if \"x\" not in attr2f[i]:\n",
    "        for seat in seatf:\n",
    "            A2f.append(get_SEAT(seat, attr2f[i]))\n",
    "    else:\n",
    "        for seat in seatm:\n",
    "            A2f.append(get_SEAT(seat, attr2m[i]))"
   ]
  },
  {
   "cell_type": "code",
   "execution_count": 171,
   "id": "5d8d5f0d",
   "metadata": {},
   "outputs": [],
   "source": [
    "jsonList = [{\"targ1m\":{\"category\":\"male names\",\"examples\" : T1m}}, {\"targ2f\":{\"category\":\"female names\",\"examples\" : T2f}}, {\"attr1m\":{\"category\":\"career [masculine]\",\"examples\" : A1m}}, {\"attr1f\":{\"category\":\"career [feminine]\",\"examples\" : A1f}}, {\"attr2m\":{\"category\":\"family [masculine]\",\"examples\" : A2m}}, {\"attr2f\":{\"category\":\"family [feminine]\",\"examples\" : A2f}}]"
   ]
  },
  {
   "cell_type": "code",
   "execution_count": 172,
   "id": "3907fbef",
   "metadata": {},
   "outputs": [],
   "source": [
    "weat6 = io.open(\"weat6.txt\", mode=\"w\", encoding=\"utf-8\")\n",
    "weat6.write(json.dumps(jsonList, indent=4, sort_keys=True, ensure_ascii=False).encode('utf8').decode())\n",
    "weat6.close()"
   ]
  },
  {
   "cell_type": "code",
   "execution_count": 9,
   "id": "820eb683",
   "metadata": {},
   "outputs": [],
   "source": [
    "def get_targ_attr(testnumber, teststop, file):\n",
    "    weat = io.open(\"./resources/\"+file, mode=\"r\", encoding=\"utf-8\")\n",
    "    targ1m = []\n",
    "    targ1f = []\n",
    "    targ2m = []\n",
    "    targ2f = []\n",
    "    attr1m = []\n",
    "    attr2f = []\n",
    "    with weat as file:\n",
    "        test = False;\n",
    "        for line in file:\n",
    "            if testnumber in line:\n",
    "                test = True;\n",
    "            if test:\n",
    "                if teststop not in line:\n",
    "                    if \"T1m\" in line:\n",
    "                        words = line.replace(\"\\n\", \"\").strip().split(\"\\t\")\n",
    "                        for i in range(1, len(words)):\n",
    "                            if \"T1m\" not in words[i]:\n",
    "                                targ1m.append(words[i])\n",
    "                    if \"T1f\" in line:\n",
    "                        words = line.replace(\"\\n\", \"\").strip().split(\"\\t\")\n",
    "                        for i in range(1, len(words)):\n",
    "                            if \"T1f\" not in words[i]:\n",
    "                                targ1f.append(words[i])\n",
    "                    if \"T2m\" in line:\n",
    "                        words = line.replace(\"\\n\", \"\").strip().split(\"\\t\")\n",
    "                        for i in range(1, len(words)):\n",
    "                            if \"T2m\" not in words[i]:\n",
    "                                targ2m.append(words[i])\n",
    "                    if \"T2f\" in line:\n",
    "                        words = line.replace(\"\\n\", \"\").strip().split(\"\\t\")\n",
    "                        for i in range(1, len(words)):\n",
    "                            if \"T2f\" not in words[i]:\n",
    "                                targ2f.append(words[i])\n",
    "                    if \"A1m\" in line:\n",
    "                        words = line.replace(\"\\n\", \"\").strip().split(\"\\t\")\n",
    "                        for i in range(1, len(words)):\n",
    "                            if \"A2m\" not in words[i]:\n",
    "                                attr1m.append(words[i])\n",
    "                    if \"A2f\" in line:\n",
    "                        words = line.replace(\"\\n\", \"\").strip().split(\"\\t\")\n",
    "                        for i in range(1, len(words)):\n",
    "                            if \"A2f\" not in words[i]:\n",
    "                                attr2f.append(words[i])\n",
    "                else:\n",
    "                    break\n",
    "    weat.close()\n",
    "    return targ1m, targ1f, targ2m, targ2f, attr1m, attr2f"
   ]
  },
  {
   "cell_type": "code",
   "execution_count": 187,
   "id": "974db96d",
   "metadata": {},
   "outputs": [
    {
     "name": "stdout",
     "output_type": "stream",
     "text": [
      "['x', 'x', 'x', 'تحليل', 'حساب', 'x', 'أعداد', 'الجبر']\n",
      "['الهندسة', 'الرياضيات', 'معادلات', 'x', 'x', 'إضافة', 'x', 'x']\n",
      "['نحت', 'x', 'رقص', 'x', 'الأدب', 'x', 'الشعر', 'فن']\n",
      "['x', 'رواية', 'x', 'سمفونية', 'x', 'سمفونية', 'x', 'x']\n",
      "['رجل', 'صبي', 'ذكر', 'ابن', 'له', 'هو', 'شقيق']\n",
      "['إمرأة', 'فتاة', 'أنثى', 'ابنة', 'لها', 'هي', 'أخت']\n"
     ]
    }
   ],
   "source": [
    "targ1m, targ1f, targ2m, targ2f, attr1m , attr2f = get_targ_attr(\"Test Number 2\", \"Test Number 3\") \n",
    "print(targ1m)\n",
    "print(targ1f)\n",
    "print(targ2m)\n",
    "print(targ2f)\n",
    "print(attr1m)\n",
    "print(attr2f)"
   ]
  },
  {
   "cell_type": "code",
   "execution_count": 1,
   "id": "8f0a1f21",
   "metadata": {},
   "outputs": [],
   "source": [
    "def transform_seat(seatm, seatf, targ1m, targ1f, targ2m, targ2f, attr1m, attr2f):\n",
    "    T1m = []\n",
    "    T1f = []\n",
    "    T2m = []\n",
    "    T2f = []\n",
    "    A1m = []\n",
    "    A2f = []\n",
    "\n",
    "    for i in range (0, len(targ1m)):\n",
    "        for seat in seatm:\n",
    "            if \"x\" not in targ1m[i]:\n",
    "                T1m.append(get_SEAT(seat, targ1m[i]))\n",
    "            else:\n",
    "                for seat in seatf:\n",
    "                    T1m.append(get_SEAT(seat, targ1f[i]))\n",
    "\n",
    "    for i in range (0, len(targ1f)):\n",
    "        for seat in seatf:\n",
    "            if \"x\" not in targ1f[i]:\n",
    "                T1f.append(get_SEAT(seat, targ1f[i]))\n",
    "            else:\n",
    "                for seat in seatm:\n",
    "                    T1f.append(get_SEAT(seat, targ1m[i]))\n",
    "\n",
    "    for i in range (0, len(targ2m)):\n",
    "        for seat in seatf:\n",
    "            if \"x\" not in targ2m[i]:\n",
    "                T2m.append(get_SEAT(seat, targ2m[i]))\n",
    "            else:\n",
    "                for seat in seatf:\n",
    "                    T2m.append(get_SEAT(seat, targ2f[i]))\n",
    "\n",
    "    for i in range (0, len(targ2f)):\n",
    "        for seat in seatf:\n",
    "            if \"x\" not in targ2f[i]:\n",
    "                T2f.append(get_SEAT(seat, targ2f[i]))\n",
    "            else:\n",
    "                for seat in seatm:\n",
    "                    T2f.append(get_SEAT(seat, targ2m[i]))\n",
    "\n",
    "    for i in range (0, len(attr1m)):\n",
    "        if \"x\" not in attr1m[i]:\n",
    "            for seat in seatm:\n",
    "                A1m.append(get_SEAT(seat, attr1m[i]))\n",
    "        else:\n",
    "            for seat in seatf:\n",
    "                A1m.append(get_SEAT(seat, attr2f[i]))\n",
    "\n",
    "    for i in range (0, len(attr2f)):\n",
    "        if \"x\" not in attr2f[i]:\n",
    "             for seat in seatf:\n",
    "                A2f.append(get_SEAT(seat, attr2f[i]))\n",
    "        else:\n",
    "            for seat in seatm:\n",
    "                A2f.append(get_SEAT(seat, attr1m[i]))\n",
    "    return T1m, T1f, T2m, T2f, A1m, A2f\n",
    "            "
   ]
  },
  {
   "cell_type": "code",
   "execution_count": 192,
   "id": "a9ac98a6",
   "metadata": {},
   "outputs": [],
   "source": [
    "jsonList = [{\"targ1m\":{\"category\":\"math [masculine]\",\"examples\" : T1m}}, {\"targ1f\":{\"category\":\"math [feminine]\",\"examples\" : T1f}}, {\"targ2m\":{\"category\":\"arts [masculine]\",\"examples\" : T2m}}, {\"targ2f\":{\"category\":\"arts [feminine]\",\"examples\" : T2f}}, {\"attr1m\":{\"category\":\"masculine attributes\",\"examples\" : A1m}}, {\"attr2f\":{\"category\":\"feminine attributes\",\"examples\" : A2f}}]"
   ]
  },
  {
   "cell_type": "code",
   "execution_count": 193,
   "id": "17e90a0c",
   "metadata": {},
   "outputs": [],
   "source": [
    "weat7 = io.open(\"weat7.txt\", mode=\"w\", encoding=\"utf-8\")\n",
    "weat7.write(json.dumps(jsonList, indent=4, sort_keys=True, ensure_ascii=False).encode('utf8').decode())\n",
    "weat7.close()"
   ]
  },
  {
   "cell_type": "code",
   "execution_count": 6,
   "id": "879e26c6",
   "metadata": {},
   "outputs": [],
   "source": [
    "targ1m, targ1f, targ2m, targ2f, attr1m , attr2f = get_targ_attr(\"Test Number 3\", \"Test Number 4\") \n",
    "T1m, T1f, T2m, T2f, A1m, A2f = transform_seat(seatm, seatf, targ1m, targ1f, targ2m, targ2f, attr1m, attr2f)\n",
    "jsonList = [{\"targ1m\":{\"category\":\"math [masculine]\",\"examples\" : T1m}}, {\"targ1f\":{\"category\":\"math [feminine]\",\"examples\" : T1f}}, {\"targ2m\":{\"category\":\"arts [masculine]\",\"examples\" : T2m}}, {\"targ2f\":{\"category\":\"arts [feminine]\",\"examples\" : T2f}}, {\"attr1m\":{\"category\":\"masculine attributes\",\"examples\" : A1m}}, {\"attr2f\":{\"category\":\"feminine attributes\",\"examples\" : A2f}}]"
   ]
  },
  {
   "cell_type": "code",
   "execution_count": 8,
   "id": "f5da3623",
   "metadata": {},
   "outputs": [],
   "source": [
    "weat8 = io.open(\"weat8.txt\", mode=\"w\", encoding=\"utf-8\")\n",
    "weat8.write(json.dumps(jsonList, indent=4, sort_keys=True, ensure_ascii=False).encode('utf8').decode())\n",
    "weat8.close()"
   ]
  },
  {
   "cell_type": "code",
   "execution_count": 11,
   "id": "99028007",
   "metadata": {},
   "outputs": [],
   "source": [
    "targ1m, targ1f, targ2m, targ2f, attr1m , attr2f = get_targ_attr(\"Test Number 4\", \"Test Number 5\", \"AWEAT.txt\") \n",
    "T1m, T1f, T2m, T2f, A1m, A2f = transform_seat(seatm, seatf, targ1m, targ1f, targ2m, targ2f, attr1m, attr2f)\n",
    "jsonList = [{\"targ1m\":{\"category\":\"math [masculine]\",\"examples\" : T1m}}, {\"targ1f\":{\"category\":\"math [feminine]\",\"examples\" : T1f}}, {\"targ2m\":{\"category\":\"arts [masculine]\",\"examples\" : T2m}}, {\"targ2f\":{\"category\":\"arts [feminine]\",\"examples\" : T2f}}, {\"attr1m\":{\"category\":\"masculine attributes\",\"examples\" : A1m}}, {\"attr2f\":{\"category\":\"feminine attributes\",\"examples\" : A2f}}]"
   ]
  },
  {
   "cell_type": "code",
   "execution_count": 12,
   "id": "ad50724b",
   "metadata": {},
   "outputs": [],
   "source": [
    "test4 = io.open(\"career_family.txt\", mode=\"w\", encoding=\"utf-8\")\n",
    "test4.write(json.dumps(jsonList, indent=4, sort_keys=True, ensure_ascii=False).encode('utf8').decode())\n",
    "test4.close()"
   ]
  },
  {
   "cell_type": "code",
   "execution_count": 13,
   "id": "e0a9d18f",
   "metadata": {},
   "outputs": [],
   "source": [
    "targ1m, targ1f, targ2m, targ2f, attr1m , attr2f = get_targ_attr(\"Test Number 5\", \"Test Number 6\", \"AWEAT.txt\") \n",
    "T1m, T1f, T2m, T2f, A1m, A2f = transform_seat(seatm, seatf, targ1m, targ1f, targ2m, targ2f, attr1m, attr2f)\n",
    "jsonList = [{\"targ1m\":{\"category\":\"math [masculine]\",\"examples\" : T1m}}, {\"targ1f\":{\"category\":\"math [feminine]\",\"examples\" : T1f}}, {\"targ2m\":{\"category\":\"arts [masculine]\",\"examples\" : T2m}}, {\"targ2f\":{\"category\":\"arts [feminine]\",\"examples\" : T2f}}, {\"attr1m\":{\"category\":\"masculine attributes\",\"examples\" : A1m}}, {\"attr2f\":{\"category\":\"feminine attributes\",\"examples\" : A2f}}]"
   ]
  },
  {
   "cell_type": "code",
   "execution_count": null,
   "id": "1373d181",
   "metadata": {},
   "outputs": [],
   "source": [
    "test5 = io.open(\"career_family.txt\", mode=\"w\", encoding=\"utf-8\")\n",
    "test5.write(json.dumps(jsonList, indent=4, sort_keys=True, ensure_ascii=False).encode('utf8').decode())\n",
    "test5.close()"
   ]
  }
 ],
 "metadata": {
  "kernelspec": {
   "display_name": "Python 3 (ipykernel)",
   "language": "python",
   "name": "python3"
  },
  "language_info": {
   "codemirror_mode": {
    "name": "ipython",
    "version": 3
   },
   "file_extension": ".py",
   "mimetype": "text/x-python",
   "name": "python",
   "nbconvert_exporter": "python",
   "pygments_lexer": "ipython3",
   "version": "3.9.7"
  }
 },
 "nbformat": 4,
 "nbformat_minor": 5
}
