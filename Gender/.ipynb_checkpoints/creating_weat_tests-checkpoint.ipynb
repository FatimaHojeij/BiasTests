{
 "cells": [
  {
   "cell_type": "code",
   "execution_count": 139,
   "id": "28ac6aaa",
   "metadata": {},
   "outputs": [],
   "source": [
    "import io\n",
    "import json"
   ]
  },
  {
   "cell_type": "code",
   "execution_count": 140,
   "id": "7d8765d9",
   "metadata": {},
   "outputs": [],
   "source": [
    "def get_SEAT(seat, weat):\n",
    "    return seat.replace(\"_\", weat)"
   ]
  },
  {
   "cell_type": "code",
   "execution_count": 141,
   "id": "d132152a",
   "metadata": {},
   "outputs": [],
   "source": [
    "seatf = set()\n",
    "seatm = set()\n",
    "seat = io.open(\"./resources/SEAT_ARABIC.txt\", mode=\"r\", encoding=\"utf-8\")\n",
    "with seat as file:\n",
    "    file.readline()\n",
    "    for line in file:\n",
    "        if \"|\" in line:\n",
    "            gender = line.split(\"|\")\n",
    "            seatf.add(gender[0].strip())\n",
    "            if \"x\" in gender[1].strip():\n",
    "                seatm.add(gender[0].strip())\n",
    "            else:\n",
    "                seatm.add(gender[1].strip())\n",
    "seat.close()"
   ]
  },
  {
   "cell_type": "code",
   "execution_count": 142,
   "id": "c5a599f7",
   "metadata": {},
   "outputs": [],
   "source": [
    "weat = io.open(\"./resources/WEAT.txt\", mode=\"r\", encoding=\"utf-8\")\n",
    "targ1 = []\n",
    "targ2 = []\n",
    "attr1m = []\n",
    "attr1f = []\n",
    "attr2m = []\n",
    "attr2f = []\n",
    "with weat as file:\n",
    "    for line in file:\n",
    "        if \"Test Number 2\" not in line:\n",
    "            if \"TIm\" in line:\n",
    "                words = line.replace(\"\\n\", \"\").strip().split(\"\\t\")\n",
    "                for i in range(1, len(words)):\n",
    "                    if \"TIm\" not in words[i]:\n",
    "                        targ1.append(words[i])\n",
    "            if \"T2f\" in line:\n",
    "                words = line.replace(\"\\n\", \"\").strip().split(\"\\t\")\n",
    "                for i in range(1, len(words)):\n",
    "                    if \"T2m\" not in words[i]:\n",
    "                        targ2.append(words[i])\n",
    "            if \"A1m\" in line:\n",
    "                words = line.replace(\"\\n\", \"\").strip().split(\"\\t\")\n",
    "                for i in range(1, len(words)):\n",
    "                    if \"A1m\" not in words[i]:\n",
    "                        attr1m.append(words[i])\n",
    "            if \"A1f\" in line:\n",
    "                words = line.replace(\"\\n\", \"\").strip().split(\"\\t\")\n",
    "                for i in range(1, len(words)):\n",
    "                    if \"A1f\" not in words[i]:\n",
    "                        attr1f.append(words[i])\n",
    "            if \"A2m\" in line:\n",
    "                words = line.replace(\"\\n\", \"\").strip().split(\"\\t\")\n",
    "                for i in range(1, len(words)):\n",
    "                    if \"A2m\" not in words[i]:\n",
    "                        attr2m.append(words[i])\n",
    "            if \"A2f\" in line:\n",
    "                words = line.replace(\"\\n\", \"\").strip().split(\"\\t\")\n",
    "                for i in range(1, len(words)):\n",
    "                    if \"A2f\" not in words[i]:\n",
    "                        attr2f.append(words[i])\n",
    "        else:\n",
    "            break\n",
    "\n",
    "\n",
    "weat.close()"
   ]
  },
  {
   "cell_type": "code",
   "execution_count": 143,
   "id": "56fa15e5",
   "metadata": {},
   "outputs": [
    {
     "name": "stdout",
     "output_type": "stream",
     "text": [
      "['محمد', 'عمر', 'أحمد', 'يوسف', 'علي', 'آدم', 'عبدالله', 'حمزة']\n",
      "['مريم', 'سارة', 'فاطمة', 'نور', 'ريم', 'لين', 'سلمى', 'جنى']\n",
      "['مدير', 'x', 'محترف', 'x', 'راتب', 'مكتب', 'x', 'عمل']\n",
      "['مديرة', 'إدارة', 'محترفة', 'مؤسسة', 'x', 'x', 'مهنة', 'x']\n",
      "['منزل', 'الأهل', 'x', 'x', 'أبناء عم', 'زواج', 'حفل زواج', 'x']\n",
      "['x', 'x', 'الأطفال', 'عائلة', 'بنات عم', 'x', 'x', 'أقارب']\n"
     ]
    }
   ],
   "source": [
    "print(targ1)\n",
    "print(targ2)\n",
    "print(attr1m)\n",
    "print(attr1f)\n",
    "print(attr2m)\n",
    "print(attr2f)"
   ]
  },
  {
   "cell_type": "code",
   "execution_count": 150,
   "id": "fa8b68c2",
   "metadata": {},
   "outputs": [],
   "source": [
    "T1m = []\n",
    "T2f = []\n",
    "A1m = []\n",
    "A1f = []\n",
    "A2m = []\n",
    "A2f = []\n",
    "\n",
    "for i in range (0, len(targ1)):\n",
    "    for seat in seatm:\n",
    "        if \"x\" not in targ1[i]:\n",
    "            T1m.append(get_SEAT(seat, targ1[i]))\n",
    "\n",
    "for i in range (0, len(targ2)):\n",
    "    for seat in seatf:\n",
    "        if \"x\" not in targ2[i]:\n",
    "            T2f.append(get_SEAT(seat, targ2[i]))\n",
    "\n",
    "for i in range (0, len(attr1m)):\n",
    "    if \"x\" not in attr1m[i]:\n",
    "        for seat in seatm:\n",
    "            A1m.append(get_SEAT(seat, attr1m[i]))\n",
    "    else:\n",
    "        for seat in seatf:\n",
    "            A1m.append(get_SEAT(seat, attr1f[i]))\n",
    "\n",
    "for i in range (0, len(attr1f)):\n",
    "    if \"x\" not in attr1f[i]:\n",
    "         for seat in seatf:\n",
    "            A1f.append(get_SEAT(seat, attr1f[i]))\n",
    "    else:\n",
    "        for seat in seatm:\n",
    "            A1f.append(get_SEAT(seat, attr1m[i]))\n",
    "            \n",
    "for i in range (0, len(attr2m)):\n",
    "    if \"x\" not in attr2m[i]:\n",
    "        for seat in seatm:\n",
    "            A2m.append(get_SEAT(seat, attr2m[i]))\n",
    "    else:\n",
    "        for seat in seatf:\n",
    "            A2m.append(get_SEAT(seat, attr2f[i]))\n",
    "\n",
    "for i in range (0, len(attr2f)):\n",
    "    if \"x\" not in attr2f[i]:\n",
    "        for seat in seatf:\n",
    "            A2f.append(get_SEAT(seat, attr2f[i]))\n",
    "    else:\n",
    "        for seat in seatm:\n",
    "            A2f.append(get_SEAT(seat, attr2m[i]))"
   ]
  },
  {
   "cell_type": "code",
   "execution_count": 171,
   "id": "1bd839b5",
   "metadata": {},
   "outputs": [],
   "source": [
    "jsonList = [{\"targ1m\":{\"category\":\"male names\",\"examples\" : T1m}}, {\"targ2f\":{\"category\":\"female names\",\"examples\" : T2f}}, {\"attr1m\":{\"category\":\"career [masculine]\",\"examples\" : A1m}}, {\"attr1f\":{\"category\":\"career [feminine]\",\"examples\" : A1f}}, {\"attr2m\":{\"category\":\"family [masculine]\",\"examples\" : A2m}}, {\"attr2f\":{\"category\":\"family [feminine]\",\"examples\" : A2f}}]"
   ]
  },
  {
   "cell_type": "code",
   "execution_count": 172,
   "id": "68e416a8",
   "metadata": {},
   "outputs": [],
   "source": [
    "weat6 = io.open(\"weat6.txt\", mode=\"w\", encoding=\"utf-8\")\n",
    "weat6.write(json.dumps(jsonList, indent=4, sort_keys=True, ensure_ascii=False).encode('utf8').decode())\n",
    "weat6.close()"
   ]
  }
 ],
 "metadata": {
  "kernelspec": {
   "display_name": "Python 3 (ipykernel)",
   "language": "python",
   "name": "python3"
  },
  "language_info": {
   "codemirror_mode": {
    "name": "ipython",
    "version": 3
   },
   "file_extension": ".py",
   "mimetype": "text/x-python",
   "name": "python",
   "nbconvert_exporter": "python",
   "pygments_lexer": "ipython3",
   "version": "3.9.7"
  }
 },
 "nbformat": 4,
 "nbformat_minor": 5
}
